{
 "cells": [
  {
   "cell_type": "markdown",
   "metadata": {},
   "source": [
    "# Introdução JavaScript"
   ]
  },
  {
   "cell_type": "markdown",
   "metadata": {},
   "source": [
    "### URL do nosso projeto Quiz Ninja https://replit.com/@Luiz_CarlosCar1/QuizNinja#script.js"
   ]
  },
  {
   "cell_type": "markdown",
   "metadata": {},
   "source": [
    "## Comentários"
   ]
  },
  {
   "cell_type": "code",
   "execution_count": 2,
   "metadata": {},
   "outputs": [],
   "source": [
    "// este é um comentário de uma linha"
   ]
  },
  {
   "cell_type": "code",
   "execution_count": 3,
   "metadata": {},
   "outputs": [],
   "source": [
    "/* este é um comentário \n",
    "de várias linhas */"
   ]
  },
  {
   "cell_type": "markdown",
   "metadata": {},
   "source": [
    "## Grámatica JavaScript"
   ]
  },
  {
   "cell_type": "code",
   "execution_count": 50,
   "metadata": {},
   "outputs": [
    {
     "name": "stdout",
     "output_type": "stream",
     "text": [
      "Olá pessoal\n"
     ]
    }
   ],
   "source": [
    "// podemos escrever cada instrução em uma linha separada\n",
    "const mensagem = 'Olá pessoal'\n",
    "console.log(mensagem)"
   ]
  },
  {
   "cell_type": "code",
   "execution_count": 7,
   "metadata": {},
   "outputs": [
    {
     "name": "stdout",
     "output_type": "stream",
     "text": [
      "Olá pessoal\n"
     ]
    }
   ],
   "source": [
    "// ou podemos escrever várias instruções em uma única linha\n",
    "const mensagem = 'Olá pessoal'; console.log(mensagem);"
   ]
  },
  {
   "cell_type": "code",
   "execution_count": 9,
   "metadata": {},
   "outputs": [
    {
     "name": "stdout",
     "output_type": "stream",
     "text": [
      "Olá pessoal\n"
     ]
    }
   ],
   "source": [
    "// é boa prática de programação terminar cada instrução com ; \n",
    "// mesmo estando sozinho em uma linha \n",
    "const mensagem = 'Olá pessoal';\n",
    "console.log(mensagem);"
   ]
  },
  {
   "cell_type": "code",
   "execution_count": 15,
   "metadata": {},
   "outputs": [
    {
     "name": "stdout",
     "output_type": "stream",
     "text": [
      "Boa noite!\n"
     ]
    }
   ],
   "source": [
    "{\n",
    "    // isto é um blodo de instruções\n",
    "    const mensagem = 'Boa noite!';\n",
    "    console.log(mensagem);\n",
    "}"
   ]
  },
  {
   "cell_type": "markdown",
   "metadata": {},
   "source": [
    "## Tipos de dados"
   ]
  },
  {
   "cell_type": "code",
   "execution_count": 16,
   "metadata": {},
   "outputs": [
    {
     "name": "stdout",
     "output_type": "stream",
     "text": [
      "string\n"
     ]
    }
   ],
   "source": [
    "typeof 'mouse'"
   ]
  },
  {
   "cell_type": "code",
   "execution_count": 17,
   "metadata": {},
   "outputs": [
    {
     "name": "stdout",
     "output_type": "stream",
     "text": [
      "number\n"
     ]
    }
   ],
   "source": [
    "typeof 10"
   ]
  },
  {
   "cell_type": "code",
   "execution_count": 18,
   "metadata": {},
   "outputs": [
    {
     "name": "stdout",
     "output_type": "stream",
     "text": [
      "number\n"
     ]
    }
   ],
   "source": [
    "typeof 9.87"
   ]
  },
  {
   "cell_type": "code",
   "execution_count": 19,
   "metadata": {},
   "outputs": [
    {
     "name": "stdout",
     "output_type": "stream",
     "text": [
      "boolean\n"
     ]
    }
   ],
   "source": [
    "typeof true"
   ]
  },
  {
   "cell_type": "code",
   "execution_count": 21,
   "metadata": {},
   "outputs": [
    {
     "name": "stdout",
     "output_type": "stream",
     "text": [
      "object\n"
     ]
    }
   ],
   "source": [
    "typeof [1, 2, 3]"
   ]
  },
  {
   "cell_type": "code",
   "execution_count": 24,
   "metadata": {},
   "outputs": [
    {
     "name": "stdout",
     "output_type": "stream",
     "text": [
      "object\n"
     ]
    }
   ],
   "source": [
    "typeof { cidade: 'São Luís', estado: 'MA' }"
   ]
  },
  {
   "cell_type": "markdown",
   "metadata": {},
   "source": [
    "## Variáveis"
   ]
  },
  {
   "cell_type": "code",
   "execution_count": 26,
   "metadata": {},
   "outputs": [
    {
     "name": "stdout",
     "output_type": "stream",
     "text": [
      "Luiz Carlos\n"
     ]
    }
   ],
   "source": [
    "const nome = 'Luiz Carlos'; // declara uma 'constante' e atribui um valor a ela\n",
    "console.log(nome)"
   ]
  },
  {
   "cell_type": "code",
   "execution_count": 28,
   "metadata": {},
   "outputs": [
    {
     "name": "stderr",
     "output_type": "stream",
     "text": [
      "2:1 - Cannot assign to 'nome' because it is a constant.\n"
     ]
    }
   ],
   "source": [
    "// não podemos atribuir um novo valor a uma constante\n",
    "nome = 'outro nome'"
   ]
  },
  {
   "cell_type": "code",
   "execution_count": 31,
   "metadata": {},
   "outputs": [
    {
     "name": "stdout",
     "output_type": "stream",
     "text": [
      "50\n"
     ]
    }
   ],
   "source": [
    "// let cria uma variável cujo valor pode ser alterado\n",
    "let idade = 50;\n",
    "console.log(idade)"
   ]
  },
  {
   "cell_type": "code",
   "execution_count": 30,
   "metadata": {},
   "outputs": [
    {
     "name": "stdout",
     "output_type": "stream",
     "text": [
      "51\n"
     ]
    }
   ],
   "source": [
    "idade = 51;"
   ]
  },
  {
   "cell_type": "markdown",
   "metadata": {},
   "source": [
    "## Escopo de variáveis"
   ]
  },
  {
   "cell_type": "markdown",
   "metadata": {},
   "source": [
    "### Escopo global\n",
    "Variáveis definidas no escopo global podem ser acessadas em qualquer lugar"
   ]
  },
  {
   "cell_type": "code",
   "execution_count": null,
   "metadata": {},
   "outputs": [],
   "source": [
    "const cidade = 'São Luís'"
   ]
  },
  {
   "cell_type": "code",
   "execution_count": 33,
   "metadata": {},
   "outputs": [
    {
     "name": "stdout",
     "output_type": "stream",
     "text": [
      "São Luís\n"
     ]
    }
   ],
   "source": [
    "console.log(cidade)"
   ]
  },
  {
   "cell_type": "markdown",
   "metadata": {},
   "source": [
    "### Escopo local\n",
    "Variáveis que são definidas no escopo local só podem ser acessadas \n",
    "no contexto específico onde foram declaradas "
   ]
  },
  {
   "cell_type": "code",
   "execution_count": 39,
   "metadata": {},
   "outputs": [
    {
     "name": "stdout",
     "output_type": "stream",
     "text": [
      "Maranhão\n",
      "MA\n",
      "Maranhão\n"
     ]
    }
   ],
   "source": [
    "const estado = 'Maranhão'; // escopo global\n",
    "{\n",
    "    const sigla = 'MA'; // escopo local\n",
    "    console.log(estado);\n",
    "    console.log(sigla);\n",
    "}\n",
    "console.log(estado);\n",
    "//console.log(sigla);  // remova o comentário e esta linha gerará um erro"
   ]
  },
  {
   "cell_type": "markdown",
   "metadata": {},
   "source": [
    "## Nomeando variáveis\n"
   ]
  },
  {
   "cell_type": "code",
   "execution_count": 42,
   "metadata": {},
   "outputs": [],
   "source": [
    "// nomes de variáveis devem começar com uma letra ou $ ou _, podem conter letras, números e $ e _.\n",
    "let primeiroNome = 'Paulo';\n",
    "let _nomeDoMeio = 'Costa';\n",
    "let $ultimo_nome = 'Silva';\n",
    "let ano2000 = 2000;"
   ]
  },
  {
   "cell_type": "code",
   "execution_count": 46,
   "metadata": {},
   "outputs": [
    {
     "name": "stderr",
     "output_type": "stream",
     "text": [
      "4:10 - ',' expected.\n",
      "4:11 - Cannot find name 'variável'.\n",
      "4:20 - ';' expected.\n"
     ]
    }
   ],
   "source": [
    "exemplos de nomes inválidos\n",
    "let #primeiroNome = 'Paulo';\n",
    "let 2000anos = 2000;\n",
    "let minha&variável = true;"
   ]
  },
  {
   "cell_type": "code",
   "execution_count": 51,
   "metadata": {},
   "outputs": [],
   "source": [
    "// notação camel case\n",
    "let nomeCompleto = 'Luiz Muniz';  // é mais comum para javascript\n",
    "// notação snake case\n",
    "let nome_completo = 'João Souza';"
   ]
  },
  {
   "cell_type": "markdown",
   "metadata": {},
   "source": [
    "## Atribuição por valor e por referência"
   ]
  },
  {
   "cell_type": "code",
   "execution_count": 59,
   "metadata": {},
   "outputs": [
    {
     "name": "stdout",
     "output_type": "stream",
     "text": [
      "10\n",
      "11\n"
     ]
    }
   ],
   "source": [
    "// atrivuição por valor\n",
    "let a = 10;  \n",
    "let b = a;  // b = 10\n",
    "b = 11;\n",
    "console.log(a);\n",
    "console.log(b);"
   ]
  },
  {
   "cell_type": "code",
   "execution_count": 80,
   "metadata": {},
   "outputs": [
    {
     "name": "stdout",
     "output_type": "stream",
     "text": [
      "MA\n",
      "MA\n",
      "RJ\n",
      "RJ\n"
     ]
    }
   ],
   "source": [
    "// atribuição por referência\n",
    "let estado = { sigla: 'MA' }\n",
    "let outroEstado = estado;  // as duas variáveis estão apontando pra mesma sigla\n",
    "console.log(estado.sigla)\n",
    "console.log(outroEstado.sigla)\n",
    "outroEstado.sigla = 'RJ'   // isto afeta a variável estado\n",
    "console.log(outroEstado.sigla)\n",
    "console.log(estado.sigla)"
   ]
  },
  {
   "cell_type": "markdown",
   "metadata": {},
   "source": [
    "## Propriedades e métodos de strings"
   ]
  },
  {
   "cell_type": "code",
   "execution_count": 81,
   "metadata": {},
   "outputs": [
    {
     "name": "stdout",
     "output_type": "stream",
     "text": [
      "4\n"
     ]
    }
   ],
   "source": [
    "let nome = 'Luiz';\n",
    "console.log(nome.length)"
   ]
  },
  {
   "cell_type": "code",
   "execution_count": 82,
   "metadata": {},
   "outputs": [
    {
     "name": "stdout",
     "output_type": "stream",
     "text": [
      "LUIZ\n"
     ]
    }
   ],
   "source": [
    "console.log(nome.toUpperCase())"
   ]
  },
  {
   "cell_type": "code",
   "execution_count": 83,
   "metadata": {},
   "outputs": [
    {
     "name": "stdout",
     "output_type": "stream",
     "text": [
      "luiz\n"
     ]
    }
   ],
   "source": [
    "console.log(nome.toLowerCase())"
   ]
  },
  {
   "cell_type": "code",
   "execution_count": 88,
   "metadata": {},
   "outputs": [
    {
     "name": "stdout",
     "output_type": "stream",
     "text": [
      "i\n",
      "\n",
      "3\n",
      "-1\n"
     ]
    }
   ],
   "source": [
    "console.log(nome.charAt(2))\n",
    "console.log(nome.charAt(100))\n",
    "console.log(nome.indexOf('z'))\n",
    "console.log(nome.indexOf('p'))"
   ]
  },
  {
   "cell_type": "code",
   "execution_count": 103,
   "metadata": {},
   "outputs": [
    {
     "name": "stdout",
     "output_type": "stream",
     "text": [
      "tamanho da frase: 42\n",
      "índice do primeiro a: 1\n",
      "índice do último a: 31\n",
      "começa com B: true\n",
      "repete: LuizLuizLuiz\n"
     ]
    }
   ],
   "source": [
    "let frase = 'Batatinha quando nasce esparrama pelo chão';\n",
    "console.log('tamanho da frase: ' + frase.length)\n",
    "console.log('índice do primeiro a: ' + frase.indexOf('a'))\n",
    "console.log('índice do último a: ' + frase.lastIndexOf('a'))\n",
    "console.log('começa com B: ' + frase.startsWith('B'))\n",
    "console.log('repete: ' + nome.repeat(3))"
   ]
  },
  {
   "cell_type": "markdown",
   "metadata": {},
   "source": [
    "## Templates literals"
   ]
  },
  {
   "cell_type": "code",
   "execution_count": 109,
   "metadata": {},
   "outputs": [
    {
     "name": "stdout",
     "output_type": "stream",
     "text": [
      "Meu nome é Luiz. Minha idade é 50.\n",
      "Meu nome é Luiz. Minha idade é 50.\n"
     ]
    }
   ],
   "source": [
    "let frase = 'Meu nome é ' + nome + '. Minha idade é ' + idade + '.';\n",
    "console.log(frase);\n",
    "\n",
    "let frase2 = `Meu nome é ${nome}. Minha idade é ${idade}.`;  // template literal\n",
    "console.log(frase2);"
   ]
  },
  {
   "cell_type": "markdown",
   "metadata": {},
   "source": [
    "## Números"
   ]
  },
  {
   "cell_type": "code",
   "execution_count": 126,
   "metadata": {},
   "outputs": [
    {
     "name": "stdout",
     "output_type": "stream",
     "text": [
      "true\n",
      "false\n"
     ]
    }
   ],
   "source": [
    "let a = 10;\n",
    "let b = 5.442343;\n",
    "\n",
    "let aEhInteiro = Number.isInteger(a);\n",
    "console.log(aEhInteiro)\n",
    "\n",
    "let bEhInteiro = Number.isInteger(b);\n",
    "console.log(bEhInteiro)"
   ]
  },
  {
   "cell_type": "code",
   "execution_count": 134,
   "metadata": {},
   "outputs": [
    {
     "name": "stdout",
     "output_type": "stream",
     "text": [
      "5.00\n",
      "5.000\n",
      "3.142\n",
      "10\n"
     ]
    }
   ],
   "source": [
    "// chamando métodos em números\n",
    "\n",
    "// console.log(5.toFixed(2)) // isto gera um erro\n",
    "\n",
    "console.log(5..toFixed(2))\n",
    "console.log( (5).toFixed(3) )\n",
    "console.log(3.14234324.toFixed(3))  // se for real pode  usar apenas um ponto antes do nome do método\n",
    "let numero = 10\n",
    "console.log(numero.toFixed())  "
   ]
  },
  {
   "cell_type": "markdown",
   "metadata": {},
   "source": [
    "## Operadores de incremento"
   ]
  },
  {
   "cell_type": "code",
   "execution_count": 158,
   "metadata": {},
   "outputs": [
    {
     "name": "stdout",
     "output_type": "stream",
     "text": [
      "x = 100\n",
      "x = 101\n",
      "x = 102\n",
      "x = 103\n",
      "y = 100\n",
      "y = 99\n",
      "y = 98\n",
      "y = 97\n",
      "z = 30\n",
      "z = 15\n"
     ]
    }
   ],
   "source": [
    "let x = 100;\n",
    "console.log('x = ' + x)\n",
    "x = x + 1;\n",
    "console.log('x = ' + x)\n",
    "x++;   //  x = x + 1\n",
    "console.log('x = ' + x)\n",
    "x += 1;\n",
    "console.log('x = ' + x)\n",
    "\n",
    "x = x + 2;\n",
    "x += 2   // x = x + 2\n",
    "\n",
    "let y = 100;\n",
    "console.log('y = ' + y)\n",
    "y = y - 1;\n",
    "console.log('y = ' + y)\n",
    "y--;   //  x = x + 1\n",
    "console.log('y = ' + y)\n",
    "y -= 1;\n",
    "console.log('y = ' + y)\n",
    "\n",
    "y = y - 2;\n",
    "y -= 2   // x = x + 2\n",
    "\n",
    "let z = 10\n",
    "z *= 3   // z = z * 3\n",
    "console.log('z = ' + z)\n",
    "z /= 2   // z = z / 2\n",
    "console.log('z = ' + z)"
   ]
  },
  {
   "cell_type": "markdown",
   "metadata": {},
   "source": [
    "## Conversão de tipos de dados"
   ]
  },
  {
   "cell_type": "code",
   "execution_count": 160,
   "metadata": {},
   "outputs": [
    {
     "name": "stdout",
     "output_type": "stream",
     "text": [
      "10010\n"
     ]
    }
   ],
   "source": [
    "'100' + 10"
   ]
  },
  {
   "cell_type": "code",
   "execution_count": 161,
   "metadata": {},
   "outputs": [
    {
     "name": "stdout",
     "output_type": "stream",
     "text": [
      "110\n"
     ]
    }
   ],
   "source": [
    "Number('100') + 10"
   ]
  },
  {
   "cell_type": "code",
   "execution_count": 164,
   "metadata": {},
   "outputs": [
    {
     "name": "stdout",
     "output_type": "stream",
     "text": [
      "NaN\n"
     ]
    }
   ],
   "source": [
    "Number('adasd') + 10  // NaN é Not a number"
   ]
  },
  {
   "cell_type": "code",
   "execution_count": 166,
   "metadata": {},
   "outputs": [
    {
     "name": "stdout",
     "output_type": "stream",
     "text": [
      "string\n"
     ]
    }
   ],
   "source": [
    "typeof String(5)"
   ]
  },
  {
   "cell_type": "code",
   "execution_count": 168,
   "metadata": {},
   "outputs": [
    {
     "name": "stdout",
     "output_type": "stream",
     "text": [
      "string\n"
     ]
    }
   ],
   "source": [
    "typeof 10..toString()"
   ]
  },
  {
   "cell_type": "code",
   "execution_count": 174,
   "metadata": {},
   "outputs": [
    {
     "name": "stdout",
     "output_type": "stream",
     "text": [
      "decimal = 10\n",
      "decimal = 10\n",
      "binário = 1010\n",
      "octal = 12\n",
      "hexadecimal = a\n"
     ]
    }
   ],
   "source": [
    "// converte entre bases numéricas\n",
    "console.log('decimal = ' + 10..toString())\n",
    "console.log('decimal = ' + 10..toString(10))\n",
    "console.log('binário = ' + 10..toString(2))\n",
    "console.log('octal = ' + 10..toString(8))\n",
    "console.log('hexadecimal = ' + 10..toString(16))"
   ]
  },
  {
   "cell_type": "code",
   "execution_count": 195,
   "metadata": {},
   "outputs": [
    {
     "name": "stdout",
     "output_type": "stream",
     "text": [
      "decimal = 100\n",
      "decimal = 100\n",
      "binário = 10\n",
      "binário = 9\n",
      "binário = 15\n"
     ]
    }
   ],
   "source": [
    "// converte string em número decimal\n",
    "console.log('decimal = ' + parseInt('100'))\n",
    "console.log('decimal = ' + parseInt('100', 10))\n",
    "console.log('binário = ' + parseInt('1010', 2))\n",
    "console.log('binário = ' + parseInt('11', 8))\n",
    "console.log('binário = ' + parseInt('F', 16))"
   ]
  },
  {
   "cell_type": "markdown",
   "metadata": {},
   "source": [
    "## Operadores lógicos"
   ]
  },
  {
   "cell_type": "code",
   "execution_count": 199,
   "metadata": {},
   "outputs": [
    {
     "name": "stdout",
     "output_type": "stream",
     "text": [
      "false\n",
      "true\n",
      "false\n",
      "true\n",
      "false\n",
      "true\n"
     ]
    }
   ],
   "source": [
    "let a = 10;\n",
    "let b = 20;\n",
    "\n",
    "console.log(a == b)\n",
    "console.log(a != b)\n",
    "console.log(a > b)\n",
    "console.log(a < b)\n",
    "console.log(a >= b)\n",
    "console.log(a <= b)"
   ]
  },
  {
   "cell_type": "code",
   "execution_count": 213,
   "metadata": {},
   "outputs": [
    {
     "name": "stdout",
     "output_type": "stream",
     "text": [
      "false\n",
      "true\n",
      "false\n",
      "true\n",
      "-------\n",
      "true\n",
      "-------\n",
      "x = true\n",
      "não x = false\n"
     ]
    }
   ],
   "source": [
    "let a = 10;\n",
    "let b = 20;\n",
    "let c = 30\n",
    "// E lógico => &&\n",
    "console.log(a > b && b > c)\n",
    "console.log(a < b && b < c) // b está entre a e c ?\n",
    "// OU lógico => ||\n",
    "console.log(a > b || b > c)\n",
    "console.log(a < b || b < c) // b está entre a e c ?\n",
    "// negação\n",
    "console.log('-------')\n",
    "\n",
    "console.log( !(a > b)  )\n",
    "\n",
    "console.log('-------')\n",
    "let x = true\n",
    "console.log('x = ' + x)\n",
    "console.log('não x = ' + !x)"
   ]
  }
 ],
 "metadata": {
  "kernelspec": {
   "display_name": "JavaScript",
   "language": "javascript",
   "name": "jslab"
  },
  "language_info": {
   "file_extension": ".js",
   "mimetype": "text/javascript",
   "name": "javascript",
   "version": ""
  }
 },
 "nbformat": 4,
 "nbformat_minor": 4
}
