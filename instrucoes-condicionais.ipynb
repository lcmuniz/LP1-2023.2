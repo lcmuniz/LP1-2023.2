{
 "cells": [
  {
   "cell_type": "markdown",
   "metadata": {},
   "source": [
    "### Instruções"
   ]
  },
  {
   "cell_type": "markdown",
   "metadata": {},
   "source": [
    "##### if ... else if ... else"
   ]
  },
  {
   "cell_type": "code",
   "execution_count": 13,
   "metadata": {},
   "outputs": [
    {
     "name": "stdout",
     "output_type": "stream",
     "text": [
      "Você não deve beber ainda\n"
     ]
    }
   ],
   "source": [
    "const idade = 15\n",
    "if (idade < 18) {\n",
    "    console.log('Você não deve beber ainda')\n",
    "}"
   ]
  },
  {
   "cell_type": "code",
   "execution_count": 22,
   "metadata": {},
   "outputs": [
    {
     "name": "stdout",
     "output_type": "stream",
     "text": [
      "Você já pode beber. Vá com calma.\n",
      "Boa noite\n"
     ]
    }
   ],
   "source": [
    "const idade = 19\n",
    "if (idade < 18) {\n",
    "    console.log('Você não deve beber ainda')\n",
    "}\n",
    "else {\n",
    "    console.log('Você já pode beber. Vá com calma.')\n",
    "    console.log('Boa noite')\n",
    "}"
   ]
  },
  {
   "cell_type": "code",
   "execution_count": 29,
   "metadata": {},
   "outputs": [
    {
     "name": "stdout",
     "output_type": "stream",
     "text": [
      "n é par\n"
     ]
    }
   ],
   "source": [
    "const n = 12\n",
    "if (n % 2 == 0) {\n",
    "    console.log('n é par')\n",
    "}\n",
    "else {\n",
    "    console.log('n é impar')\n",
    "}"
   ]
  },
  {
   "cell_type": "code",
   "execution_count": 37,
   "metadata": {},
   "outputs": [
    {
     "name": "stdout",
     "output_type": "stream",
     "text": [
      "criança\n"
     ]
    }
   ],
   "source": [
    "let idade = 17\n",
    "let tipo\n",
    "if (idade < 18) {\n",
    "    tipo = 'criança'\n",
    "} \n",
    "else {\n",
    "    tipo = 'adulto'\n",
    "}\n",
    "console.log(tipo)"
   ]
  },
  {
   "cell_type": "markdown",
   "metadata": {},
   "source": [
    "#### operador ternário ("
   ]
  },
  {
   "cell_type": "code",
   "execution_count": 40,
   "metadata": {},
   "outputs": [
    {
     "name": "stdout",
     "output_type": "stream",
     "text": [
      "criança\n"
     ]
    }
   ],
   "source": [
    "let idade = 17\n",
    "let tipo = (idade < 18) ? 'criança' : 'adulto'\n",
    "console.log(tipo)"
   ]
  },
  {
   "cell_type": "code",
   "execution_count": 42,
   "metadata": {},
   "outputs": [
    {
     "name": "stdout",
     "output_type": "stream",
     "text": [
      "impar\n"
     ]
    }
   ],
   "source": [
    "let n = 11\n",
    "let parOuImpar = (n % 2 == 0) ? 'par' : 'impar'\n",
    "console.log(parOuImpar)"
   ]
  },
  {
   "cell_type": "code",
   "execution_count": 54,
   "metadata": {},
   "outputs": [
    {
     "name": "stdout",
     "output_type": "stream",
     "text": [
      "jovem\n"
     ]
    }
   ],
   "source": [
    "let idade = 21\n",
    "let tipo\n",
    "if (idade < 16) {\n",
    "    tipo = 'criança'\n",
    "}\n",
    "else if (idade < 18) {\n",
    "    tipo = 'adolescente'\n",
    "}\n",
    "else if (idade < 26) {\n",
    "    tipo = 'jovem'\n",
    "}\n",
    "else {\n",
    "    tipo = 'adulto'\n",
    "}\n",
    "console.log(tipo)"
   ]
  },
  {
   "cell_type": "code",
   "execution_count": null,
   "metadata": {},
   "outputs": [],
   "source": [
    "let lado = 5\n",
    "if (lado == 1) {\n",
    "    console.log('I')\n",
    "}\n",
    "else if (lado == 2) {\n",
    "    console.log('II')\n",
    "}\n",
    "else if (lado == 3) {\n",
    "    console.log('III')\n",
    "}\n",
    "else if (lado == 4) {\n",
    "    console.log('IV')\n",
    "}\n",
    "else if (lado == 5) {\n",
    "    console.log('V')\n",
    "}\n",
    "else if (lado == 6) {\n",
    "    console.log('VI')\n",
    "}\n",
    "else {\n",
    "    console.log('valor inválido')\n",
    "}"
   ]
  },
  {
   "cell_type": "markdown",
   "metadata": {},
   "source": [
    "##### switch"
   ]
  },
  {
   "cell_type": "code",
   "execution_count": 69,
   "metadata": {},
   "outputs": [
    {
     "name": "stdout",
     "output_type": "stream",
     "text": [
      "V\n"
     ]
    }
   ],
   "source": [
    "let lado = 5\n",
    "switch (lado) {\n",
    "    case 1:\n",
    "        console.log('I')\n",
    "        break\n",
    "    case 2:\n",
    "        console.log('II')\n",
    "        break\n",
    "    case 3:\n",
    "        console.log('III')\n",
    "        break\n",
    "    case 4:\n",
    "        console.log('IV')\n",
    "        break\n",
    "    case 5:\n",
    "        console.log('V')\n",
    "        break\n",
    "    case 6:\n",
    "        console.log('VI')\n",
    "        break\n",
    "    default:\n",
    "        console.log('valor inválido')\n",
    "}"
   ]
  },
  {
   "cell_type": "code",
   "execution_count": 64,
   "metadata": {},
   "outputs": [
    {
     "name": "stdout",
     "output_type": "stream",
     "text": [
      "impar\n",
      "par\n",
      "valor inválido\n"
     ]
    }
   ],
   "source": [
    "let lado = 5\n",
    "switch (lado) {\n",
    "    case 1:\n",
    "        console.log('impar')\n",
    "    case 2:\n",
    "        console.log('par')\n",
    "    case 3:\n",
    "        console.log('impar')\n",
    "    case 4:\n",
    "        console.log('par')\n",
    "    case 5:\n",
    "        console.log('impar')\n",
    "    case 6:\n",
    "        console.log('par')\n",
    "    default:\n",
    "        console.log('valor inválido')\n",
    "}"
   ]
  }
 ],
 "metadata": {
  "kernelspec": {
   "display_name": "JavaScript",
   "language": "javascript",
   "name": "jslab"
  },
  "language_info": {
   "file_extension": ".js",
   "mimetype": "text/javascript",
   "name": "javascript",
   "version": ""
  }
 },
 "nbformat": 4,
 "nbformat_minor": 4
}
